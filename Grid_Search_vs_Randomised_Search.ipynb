{
  "nbformat": 4,
  "nbformat_minor": 0,
  "metadata": {
    "colab": {
      "provenance": [],
      "toc_visible": true,
      "authorship_tag": "ABX9TyOjw0MPKV+nHrTKqfCqBkbN",
      "include_colab_link": true
    },
    "kernelspec": {
      "name": "python3",
      "display_name": "Python 3"
    },
    "language_info": {
      "name": "python"
    }
  },
  "cells": [
    {
      "cell_type": "markdown",
      "metadata": {
        "id": "view-in-github",
        "colab_type": "text"
      },
      "source": [
        "<a href=\"https://colab.research.google.com/github/ahoirg/HyperParametersTuning__PresentationAndMaterials/blob/master/Grid_Search_vs_Randomised_Search.ipynb\" target=\"_parent\"><img src=\"https://colab.research.google.com/assets/colab-badge.svg\" alt=\"Open In Colab\"/></a>"
      ]
    },
    {
      "cell_type": "markdown",
      "source": [
        "# Grid Search vs Randomised Search"
      ],
      "metadata": {
        "id": "dXzk_08BDpo6"
      }
    },
    {
      "cell_type": "code",
      "source": [
        "import tensorflow as tf\n",
        "from tensorflow.keras.datasets import mnist\n",
        "from tensorflow.keras.models import Sequential\n",
        "from tensorflow.keras.layers import Conv2D, MaxPooling2D, Flatten, Dense\n",
        "from sklearn.model_selection import ParameterGrid, ParameterSampler\n",
        "import matplotlib.pyplot as plt\n",
        "import time"
      ],
      "metadata": {
        "id": "t8spFSuzBJii"
      },
      "execution_count": null,
      "outputs": []
    },
    {
      "cell_type": "code",
      "execution_count": null,
      "metadata": {
        "id": "tRRNyeCKwBDm"
      },
      "outputs": [],
      "source": [
        "# Load and preprocess the MNIST dataset\n",
        "(x_train, y_train), (x_test, y_test) = mnist.load_data()\n",
        "x_train, x_test = x_train / 255.0, x_test / 255.0\n",
        "x_train = x_train[..., tf.newaxis]\n",
        "x_test = x_test[..., tf.newaxis]\n",
        "\n",
        "# Function to create a CNN model\n",
        "def create_cnn_model(learning_rate=0.001, num_filters=32, kernel_size=3, dense_units=128):\n",
        "    model = Sequential([\n",
        "        Conv2D(num_filters, kernel_size, activation='relu', input_shape=(28, 28, 1)),\n",
        "        MaxPooling2D(2, 2),\n",
        "        Flatten(),\n",
        "        Dense(dense_units, activation='relu'),\n",
        "        Dense(10, activation='softmax')\n",
        "    ])\n",
        "    model.compile(optimizer=tf.keras.optimizers.Adam(learning_rate),\n",
        "                  loss='sparse_categorical_crossentropy',\n",
        "                  metrics=['accuracy'])\n",
        "    return model"
      ]
    },
    {
      "cell_type": "code",
      "source": [
        "# Hyperparameters\n",
        "hyperparameters = {\n",
        "    'learning_rate': [0.001, 0.01, 0.1],\n",
        "    'num_filters': [32, 64],\n",
        "    'kernel_size': [3],\n",
        "    'dense_units': [128]\n",
        "}"
      ],
      "metadata": {
        "id": "5K6HJJyZBIH3"
      },
      "execution_count": null,
      "outputs": []
    },
    {
      "cell_type": "code",
      "source": [
        "for params in ParameterGrid(hyperparameters):\n",
        "  print(params)"
      ],
      "metadata": {
        "colab": {
          "base_uri": "https://localhost:8080/"
        },
        "id": "Hf7l2FjhBWFL",
        "outputId": "2c928396-45b2-4e96-aebd-eb5c9ad182a1"
      },
      "execution_count": null,
      "outputs": [
        {
          "output_type": "stream",
          "name": "stdout",
          "text": [
            "{'dense_units': 128, 'kernel_size': 3, 'learning_rate': 0.001, 'num_filters': 32}\n",
            "{'dense_units': 128, 'kernel_size': 3, 'learning_rate': 0.001, 'num_filters': 64}\n",
            "{'dense_units': 128, 'kernel_size': 3, 'learning_rate': 0.01, 'num_filters': 32}\n",
            "{'dense_units': 128, 'kernel_size': 3, 'learning_rate': 0.01, 'num_filters': 64}\n",
            "{'dense_units': 128, 'kernel_size': 3, 'learning_rate': 0.1, 'num_filters': 32}\n",
            "{'dense_units': 128, 'kernel_size': 3, 'learning_rate': 0.1, 'num_filters': 64}\n"
          ]
        }
      ]
    },
    {
      "cell_type": "code",
      "source": [
        "for params in ParameterSampler(hyperparameters, n_iter=num_iter, random_state=0):\n",
        "  print(params)"
      ],
      "metadata": {
        "colab": {
          "base_uri": "https://localhost:8080/"
        },
        "id": "tuMYSNTwCafg",
        "outputId": "f8028e24-fce1-413b-b092-e1f1d458327f"
      },
      "execution_count": null,
      "outputs": [
        {
          "output_type": "stream",
          "name": "stdout",
          "text": [
            "{'num_filters': 64, 'learning_rate': 0.1, 'kernel_size': 3, 'dense_units': 128}\n",
            "{'num_filters': 32, 'learning_rate': 0.01, 'kernel_size': 3, 'dense_units': 128}\n",
            "{'num_filters': 64, 'learning_rate': 0.001, 'kernel_size': 3, 'dense_units': 128}\n",
            "{'num_filters': 64, 'learning_rate': 0.01, 'kernel_size': 3, 'dense_units': 128}\n",
            "{'num_filters': 32, 'learning_rate': 0.001, 'kernel_size': 3, 'dense_units': 128}\n"
          ]
        }
      ]
    },
    {
      "cell_type": "code",
      "source": [
        "\n",
        "# Dictionaries to store results\n",
        "grid_search_results = {}\n",
        "random_search_results = {}\n",
        "\n",
        "# Grid Search\n",
        "start_time_gs = time.time()\n",
        "for params in ParameterGrid(hyperparameters):\n",
        "    model = create_cnn_model(**params)\n",
        "    model.fit(x_train, y_train, epochs=1, verbose=1)  # Limited epochs for demonstration\n",
        "    loss, accuracy = model.evaluate(x_test, y_test)\n",
        "    grid_search_results[str(params)] = {'loss': loss, 'accuracy': accuracy}\n",
        "end_time_gs = time.time()\n",
        "\n",
        "# Randomized Search\n",
        "start_time_rs = time.time()\n",
        "num_iter = 5  # Limiting the number of iterations for demonstration\n",
        "for params in ParameterSampler(hyperparameters, n_iter=num_iter, random_state=0):\n",
        "    model = create_cnn_model(**params)\n",
        "    model.fit(x_train, y_train, epochs=1, verbose=1)  # Limited epochs for demonstration\n",
        "    loss, accuracy = model.evaluate(x_test, y_test)\n",
        "    random_search_results[str(params)] = {'loss': loss, 'accuracy': accuracy}\n",
        "end_time_rs = time.time()\n",
        "\n",
        "# Calculate total running time\n",
        "total_time_gs = end_time_gs - start_time_gs\n",
        "total_time_rs = end_time_rs - start_time_rs\n",
        "\n",
        "# Displaying the total running time\n",
        "print(f\"Total Running Time for Grid Search: {total_time_gs:.2f} seconds\")\n",
        "print(f\"Total Running Time for Randomized Search: {total_time_rs:.2f} seconds\")\n"
      ],
      "metadata": {
        "colab": {
          "base_uri": "https://localhost:8080/"
        },
        "id": "80NXV--CBNZM",
        "outputId": "2f3792d4-3c5d-406d-8a66-22143bf58ad2"
      },
      "execution_count": null,
      "outputs": [
        {
          "output_type": "stream",
          "name": "stdout",
          "text": [
            "1875/1875 [==============================] - 42s 22ms/step - loss: 0.1505 - accuracy: 0.9548\n",
            "313/313 [==============================] - 3s 10ms/step - loss: 0.0547 - accuracy: 0.9812\n",
            "1875/1875 [==============================] - 69s 36ms/step - loss: 0.1359 - accuracy: 0.9591\n",
            "313/313 [==============================] - 4s 13ms/step - loss: 0.0564 - accuracy: 0.9824\n",
            "1875/1875 [==============================] - 40s 21ms/step - loss: 0.1433 - accuracy: 0.9570\n",
            "313/313 [==============================] - 3s 8ms/step - loss: 0.1046 - accuracy: 0.9690\n",
            "1875/1875 [==============================] - 69s 36ms/step - loss: 0.1543 - accuracy: 0.9543\n",
            "313/313 [==============================] - 3s 9ms/step - loss: 0.0660 - accuracy: 0.9791\n",
            "1875/1875 [==============================] - 43s 22ms/step - loss: 2.4302 - accuracy: 0.1019\n",
            "313/313 [==============================] - 2s 7ms/step - loss: 2.3183 - accuracy: 0.0892\n",
            "1875/1875 [==============================] - 70s 37ms/step - loss: 2.4179 - accuracy: 0.1050\n",
            "313/313 [==============================] - 3s 8ms/step - loss: 2.3221 - accuracy: 0.0892\n",
            "1875/1875 [==============================] - 72s 38ms/step - loss: 2.4644 - accuracy: 0.1042\n",
            "313/313 [==============================] - 3s 9ms/step - loss: 2.3109 - accuracy: 0.1010\n",
            "1875/1875 [==============================] - 42s 22ms/step - loss: 0.1454 - accuracy: 0.9559\n",
            "313/313 [==============================] - 2s 7ms/step - loss: 0.0941 - accuracy: 0.9715\n",
            "1875/1875 [==============================] - 71s 37ms/step - loss: 0.1340 - accuracy: 0.9599\n",
            "313/313 [==============================] - 3s 8ms/step - loss: 0.0677 - accuracy: 0.9780\n",
            "1875/1875 [==============================] - 72s 38ms/step - loss: 0.1428 - accuracy: 0.9574\n",
            "313/313 [==============================] - 3s 8ms/step - loss: 0.0755 - accuracy: 0.9772\n",
            "1875/1875 [==============================] - 43s 23ms/step - loss: 0.1425 - accuracy: 0.9575\n",
            "313/313 [==============================] - 2s 7ms/step - loss: 0.0605 - accuracy: 0.9792\n",
            "Total Running Time for Grid Search: 464.52 seconds\n",
            "Total Running Time for Randomized Search: 369.78 seconds\n"
          ]
        }
      ]
    },
    {
      "cell_type": "code",
      "source": [
        "# Plotting the results\n",
        "plt.figure(figsize=(12, 6))\n",
        "\n",
        "# Grid Search Results\n",
        "losses_gs = [v['loss'] for v in grid_search_results.values()]\n",
        "accuracies_gs = [v['accuracy'] for v in grid_search_results.values()]\n",
        "plt.subplot(1, 2, 1)\n",
        "plt.scatter(losses_gs, accuracies_gs, color='blue')\n",
        "plt.title('Grid Search Results')\n",
        "plt.xlabel('Loss')\n",
        "plt.ylabel('Accuracy')\n",
        "\n",
        "# Randomized Search Results\n",
        "losses_rs = [v['loss'] for v in random_search_results.values()]\n",
        "accuracies_rs = [v['accuracy'] for v in random_search_results.values()]\n",
        "plt.subplot(1, 2, 2)\n",
        "plt.scatter(losses_rs, accuracies_rs, color='green')\n",
        "plt.title('Randomized Search Results')\n",
        "plt.xlabel('Loss')\n",
        "plt.ylabel('Accuracy')\n",
        "\n",
        "plt.show()"
      ],
      "metadata": {
        "colab": {
          "base_uri": "https://localhost:8080/",
          "height": 548
        },
        "id": "tEdVK_0xBSTw",
        "outputId": "91bbf773-56de-499c-c44e-16c274a1bc78"
      },
      "execution_count": null,
      "outputs": [
        {
          "output_type": "display_data",
          "data": {
            "text/plain": [
              "<Figure size 1200x600 with 2 Axes>"
            ],
            "image/png": "[encoded data removed]"
          },
          "metadata": {}
        }
      ]
    },
    {
      "cell_type": "markdown",
      "source": [
        "high_hyperparameters"
      ],
      "metadata": {
        "id": "WjTThxXWC7Ol"
      }
    },
    {
      "cell_type": "code",
      "source": [
        "high_hyperparameters = {\n",
        "    'learning_rate': [0.001, 0.005, 0.01],\n",
        "    'num_filters': [32, 64],\n",
        "    'kernel_size': [3, 5],\n",
        "    'dense_units': [128, 256]\n",
        "}"
      ],
      "metadata": {
        "id": "5_c7P5j4C3IA"
      },
      "execution_count": null,
      "outputs": []
    },
    {
      "cell_type": "code",
      "source": [
        "for params in ParameterGrid(high_hyperparameters):\n",
        "  print(params)"
      ],
      "metadata": {
        "colab": {
          "base_uri": "https://localhost:8080/"
        },
        "id": "C1OXoZ63DCtA",
        "outputId": "8e9aa8f2-8b26-4d25-d877-cf96c8ea12f6"
      },
      "execution_count": null,
      "outputs": [
        {
          "output_type": "stream",
          "name": "stdout",
          "text": [
            "{'dense_units': 128, 'kernel_size': 3, 'learning_rate': 0.001, 'num_filters': 32}\n",
            "{'dense_units': 128, 'kernel_size': 3, 'learning_rate': 0.001, 'num_filters': 64}\n",
            "{'dense_units': 128, 'kernel_size': 3, 'learning_rate': 0.005, 'num_filters': 32}\n",
            "{'dense_units': 128, 'kernel_size': 3, 'learning_rate': 0.005, 'num_filters': 64}\n",
            "{'dense_units': 128, 'kernel_size': 3, 'learning_rate': 0.01, 'num_filters': 32}\n",
            "{'dense_units': 128, 'kernel_size': 3, 'learning_rate': 0.01, 'num_filters': 64}\n",
            "{'dense_units': 128, 'kernel_size': 5, 'learning_rate': 0.001, 'num_filters': 32}\n",
            "{'dense_units': 128, 'kernel_size': 5, 'learning_rate': 0.001, 'num_filters': 64}\n",
            "{'dense_units': 128, 'kernel_size': 5, 'learning_rate': 0.005, 'num_filters': 32}\n",
            "{'dense_units': 128, 'kernel_size': 5, 'learning_rate': 0.005, 'num_filters': 64}\n",
            "{'dense_units': 128, 'kernel_size': 5, 'learning_rate': 0.01, 'num_filters': 32}\n",
            "{'dense_units': 128, 'kernel_size': 5, 'learning_rate': 0.01, 'num_filters': 64}\n",
            "{'dense_units': 256, 'kernel_size': 3, 'learning_rate': 0.001, 'num_filters': 32}\n",
            "{'dense_units': 256, 'kernel_size': 3, 'learning_rate': 0.001, 'num_filters': 64}\n",
            "{'dense_units': 256, 'kernel_size': 3, 'learning_rate': 0.005, 'num_filters': 32}\n",
            "{'dense_units': 256, 'kernel_size': 3, 'learning_rate': 0.005, 'num_filters': 64}\n",
            "{'dense_units': 256, 'kernel_size': 3, 'learning_rate': 0.01, 'num_filters': 32}\n",
            "{'dense_units': 256, 'kernel_size': 3, 'learning_rate': 0.01, 'num_filters': 64}\n",
            "{'dense_units': 256, 'kernel_size': 5, 'learning_rate': 0.001, 'num_filters': 32}\n",
            "{'dense_units': 256, 'kernel_size': 5, 'learning_rate': 0.001, 'num_filters': 64}\n",
            "{'dense_units': 256, 'kernel_size': 5, 'learning_rate': 0.005, 'num_filters': 32}\n",
            "{'dense_units': 256, 'kernel_size': 5, 'learning_rate': 0.005, 'num_filters': 64}\n",
            "{'dense_units': 256, 'kernel_size': 5, 'learning_rate': 0.01, 'num_filters': 32}\n",
            "{'dense_units': 256, 'kernel_size': 5, 'learning_rate': 0.01, 'num_filters': 64}\n"
          ]
        }
      ]
    },
    {
      "cell_type": "code",
      "source": [
        "# Dictionaries to store results\n",
        "grid_search_results = {}\n",
        "random_search_results = {}\n",
        "\n",
        "# Grid Search\n",
        "start_time_gs = time.time()\n",
        "for params in ParameterGrid(high_hyperparameters):\n",
        "    model = create_cnn_model(**params)\n",
        "    model.fit(x_train, y_train, epochs=1, verbose=1)  # Limited epochs for demonstration\n",
        "    loss, accuracy = model.evaluate(x_test, y_test)\n",
        "    grid_search_results[str(params)] = {'loss': loss, 'accuracy': accuracy}\n",
        "end_time_gs = time.time()\n",
        "\n",
        "# Randomized Search\n",
        "start_time_rs = time.time()\n",
        "num_iter = 10  # Limiting the number of iterations for demonstration\n",
        "for params in ParameterSampler(high_hyperparameters, n_iter=num_iter, random_state=0):\n",
        "    model = create_cnn_model(**params)\n",
        "    model.fit(x_train, y_train, epochs=1, verbose=1)  # Limited epochs for demonstration\n",
        "    loss, accuracy = model.evaluate(x_test, y_test)\n",
        "    random_search_results[str(params)] = {'loss': loss, 'accuracy': accuracy}\n",
        "end_time_rs = time.time()\n",
        "\n",
        "# Calculate total running time\n",
        "total_time_gs = end_time_gs - start_time_gs\n",
        "total_time_rs = end_time_rs - start_time_rs\n",
        "\n",
        "# Displaying the total running time\n",
        "print(f\"High_hyperparameters: Total Running Time for Grid Search: {total_time_gs:.2f} seconds\")\n",
        "print(f\"High_hyperparameters: Total Running Time for Randomized Search: {total_time_rs:.2f} seconds\")"
      ],
      "metadata": {
        "colab": {
          "base_uri": "https://localhost:8080/"
        },
        "id": "lDuq2vMIDH_8",
        "outputId": "625a8671-d376-4a98-ed24-18338ba9455e"
      },
      "execution_count": null,
      "outputs": [
        {
          "output_type": "stream",
          "name": "stdout",
          "text": [
            "1875/1875 [==============================] - 42s 22ms/step - loss: 0.1453 - accuracy: 0.9561\n",
            "313/313 [==============================] - 3s 8ms/step - loss: 0.0592 - accuracy: 0.9807\n",
            "1875/1875 [==============================] - 72s 38ms/step - loss: 0.1398 - accuracy: 0.9586\n",
            "313/313 [==============================] - 3s 8ms/step - loss: 0.0735 - accuracy: 0.9754\n",
            "1875/1875 [==============================] - 42s 22ms/step - loss: 0.1202 - accuracy: 0.9626\n",
            "313/313 [==============================] - 2s 6ms/step - loss: 0.0648 - accuracy: 0.9790\n",
            "1875/1875 [==============================] - 69s 36ms/step - loss: 0.1229 - accuracy: 0.9622\n",
            "313/313 [==============================] - 3s 8ms/step - loss: 0.0621 - accuracy: 0.9806\n",
            "1875/1875 [==============================] - 42s 22ms/step - loss: 0.1409 - accuracy: 0.9580\n",
            "313/313 [==============================] - 3s 8ms/step - loss: 0.0813 - accuracy: 0.9754\n",
            "1875/1875 [==============================] - 70s 37ms/step - loss: 0.1358 - accuracy: 0.9596\n",
            "313/313 [==============================] - 3s 10ms/step - loss: 0.0750 - accuracy: 0.9773\n",
            "1875/1875 [==============================] - 46s 24ms/step - loss: 0.1334 - accuracy: 0.9599\n",
            "313/313 [==============================] - 2s 7ms/step - loss: 0.0499 - accuracy: 0.9839\n",
            "1875/1875 [==============================] - 75s 40ms/step - loss: 0.1190 - accuracy: 0.9644\n",
            "313/313 [==============================] - 3s 9ms/step - loss: 0.0485 - accuracy: 0.9848\n",
            "1875/1875 [==============================] - 45s 24ms/step - loss: 0.1110 - accuracy: 0.9664\n",
            "313/313 [==============================] - 3s 9ms/step - loss: 0.0544 - accuracy: 0.9827\n",
            "1875/1875 [==============================] - 71s 38ms/step - loss: 0.1118 - accuracy: 0.9666\n",
            "313/313 [==============================] - 4s 14ms/step - loss: 0.0630 - accuracy: 0.9795\n",
            "1875/1875 [==============================] - 46s 23ms/step - loss: 0.1356 - accuracy: 0.9602\n",
            "313/313 [==============================] - 2s 7ms/step - loss: 0.0817 - accuracy: 0.9755\n",
            "1875/1875 [==============================] - 73s 38ms/step - loss: 0.1400 - accuracy: 0.9585\n",
            "313/313 [==============================] - 3s 10ms/step - loss: 0.0839 - accuracy: 0.9737\n",
            "1875/1875 [==============================] - 61s 32ms/step - loss: 0.1322 - accuracy: 0.9601\n",
            "313/313 [==============================] - 3s 8ms/step - loss: 0.0564 - accuracy: 0.9818\n",
            "1875/1875 [==============================] - 112s 59ms/step - loss: 0.1242 - accuracy: 0.9623\n",
            "313/313 [==============================] - 4s 11ms/step - loss: 0.0582 - accuracy: 0.9805\n",
            "1875/1875 [==============================] - 59s 31ms/step - loss: 0.1224 - accuracy: 0.9630\n",
            "313/313 [==============================] - 4s 13ms/step - loss: 0.0647 - accuracy: 0.9797\n",
            "1875/1875 [==============================] - 108s 57ms/step - loss: 0.1194 - accuracy: 0.9643\n",
            "313/313 [==============================] - 4s 13ms/step - loss: 0.0791 - accuracy: 0.9765\n",
            "1875/1875 [==============================] - 62s 33ms/step - loss: 0.1420 - accuracy: 0.9573\n",
            "313/313 [==============================] - 3s 8ms/step - loss: 0.0873 - accuracy: 0.9710\n",
            "1875/1875 [==============================] - 107s 57ms/step - loss: 0.1469 - accuracy: 0.9576\n",
            "313/313 [==============================] - 4s 12ms/step - loss: 0.0655 - accuracy: 0.9803\n",
            "1875/1875 [==============================] - 60s 31ms/step - loss: 0.1224 - accuracy: 0.9630\n",
            "313/313 [==============================] - 4s 13ms/step - loss: 0.0515 - accuracy: 0.9829\n",
            "1875/1875 [==============================] - 101s 53ms/step - loss: 0.1143 - accuracy: 0.9652\n",
            "313/313 [==============================] - 4s 11ms/step - loss: 0.0470 - accuracy: 0.9852\n",
            "1875/1875 [==============================] - 58s 31ms/step - loss: 0.1104 - accuracy: 0.9660\n",
            "313/313 [==============================] - 3s 8ms/step - loss: 0.0817 - accuracy: 0.9761\n",
            "1875/1875 [==============================] - 101s 54ms/step - loss: 0.1151 - accuracy: 0.9658\n",
            "313/313 [==============================] - 4s 14ms/step - loss: 0.0608 - accuracy: 0.9803\n",
            "1875/1875 [==============================] - 58s 30ms/step - loss: 0.1406 - accuracy: 0.9591\n",
            "313/313 [==============================] - 3s 10ms/step - loss: 0.1152 - accuracy: 0.9634\n",
            "1875/1875 [==============================] - 99s 53ms/step - loss: 0.1439 - accuracy: 0.9582\n",
            "313/313 [==============================] - 4s 12ms/step - loss: 0.0933 - accuracy: 0.9736\n",
            "1875/1875 [==============================] - 69s 36ms/step - loss: 0.1365 - accuracy: 0.9593\n",
            "313/313 [==============================] - 4s 14ms/step - loss: 0.1001 - accuracy: 0.9708\n",
            "1875/1875 [==============================] - 44s 23ms/step - loss: 0.1392 - accuracy: 0.9585\n",
            "313/313 [==============================] - 2s 7ms/step - loss: 0.0966 - accuracy: 0.9686\n",
            "1875/1875 [==============================] - 59s 31ms/step - loss: 0.1428 - accuracy: 0.9588\n",
            "313/313 [==============================] - 3s 8ms/step - loss: 0.0817 - accuracy: 0.9757\n",
            "1875/1875 [==============================] - 59s 31ms/step - loss: 0.1213 - accuracy: 0.9627\n",
            "313/313 [==============================] - 3s 8ms/step - loss: 0.0587 - accuracy: 0.9815\n",
            "1875/1875 [==============================] - 61s 32ms/step - loss: 0.1098 - accuracy: 0.9672\n",
            "313/313 [==============================] - 4s 11ms/step - loss: 0.0594 - accuracy: 0.9801\n",
            "1875/1875 [==============================] - 69s 36ms/step - loss: 0.1335 - accuracy: 0.9593\n",
            "313/313 [==============================] - 4s 13ms/step - loss: 0.0572 - accuracy: 0.9812\n",
            "1875/1875 [==============================] - 106s 56ms/step - loss: 0.1256 - accuracy: 0.9623\n",
            "313/313 [==============================] - 4s 12ms/step - loss: 0.0573 - accuracy: 0.9801\n",
            "1875/1875 [==============================] - 106s 55ms/step - loss: 0.1636 - accuracy: 0.9523\n",
            "313/313 [==============================] - 4s 12ms/step - loss: 0.1004 - accuracy: 0.9698\n",
            "1875/1875 [==============================] - 63s 33ms/step - loss: 0.1376 - accuracy: 0.9586\n",
            "313/313 [==============================] - 3s 8ms/step - loss: 0.0878 - accuracy: 0.9740\n",
            "1875/1875 [==============================] - 45s 24ms/step - loss: 0.1118 - accuracy: 0.9654\n",
            "313/313 [==============================] - 2s 7ms/step - loss: 0.0612 - accuracy: 0.9808\n",
            "High_hyperparameters: Total Running Time for Grid Search: 2131.64 seconds\n",
            "High_hyperparameters: Total Running Time for Randomized Search: 915.04 seconds\n"
          ]
        }
      ]
    },
    {
      "cell_type": "code",
      "source": [
        "# Plotting the results\n",
        "plt.figure(figsize=(12, 6))\n",
        "\n",
        "# Grid Search Results\n",
        "losses_gs = [v['loss'] for v in grid_search_results.values()]\n",
        "accuracies_gs = [v['accuracy'] for v in grid_search_results.values()]\n",
        "plt.subplot(1, 2, 1)\n",
        "plt.scatter(losses_gs, accuracies_gs, color='blue')\n",
        "plt.title('High_hyperparameters: Grid Search Results')\n",
        "plt.xlabel('Loss')\n",
        "plt.ylabel('Accuracy')\n",
        "\n",
        "# Randomized Search Results\n",
        "losses_rs = [v['loss'] for v in random_search_results.values()]\n",
        "accuracies_rs = [v['accuracy'] for v in random_search_results.values()]\n",
        "plt.subplot(1, 2, 2)\n",
        "plt.scatter(losses_rs, accuracies_rs, color='green')\n",
        "plt.title('High_hyperparameters: Randomized Search Results')\n",
        "plt.xlabel('Loss')\n",
        "plt.ylabel('Accuracy')\n",
        "\n",
        "plt.show()"
      ],
      "metadata": {
        "colab": {
          "base_uri": "https://localhost:8080/",
          "height": 537
        },
        "id": "QWVibaTrDP2Q",
        "outputId": "04287c18-3c7f-47e1-ed2b-93c6afccaa3e"
      },
      "execution_count": null,
      "outputs": [
        {
          "output_type": "display_data",
          "data": {
            "text/plain": [
              "<Figure size 1200x600 with 2 Axes>"
            ],
            "image/png": "[encoded data removed]"
          },
          "metadata": {}
        }
      ]
    },
    {
      "cell_type": "code",
      "source": [
        "# Grid Search sonuçlarını loss'a göre sıralama ve en iyi 5 değeri seçme\n",
        "sorted_grid_search_by_loss = sorted(grid_search_results.items(), key=lambda x: x[1]['loss'])[:1]\n",
        "\n",
        "# Randomized Search sonuçlarını loss'a göre sıralama ve en iyi 5 değeri seçme\n",
        "sorted_random_search_by_loss = sorted(random_search_results.items(), key=lambda x: x[1]['loss'])[:1]\n",
        "\n",
        "# Sıralanmış ve filtrelenmiş sonuçları yeni değişkenlere atama\n",
        "sorted_gs_losses = [v['loss'] for k, v in sorted_grid_search_by_loss]\n",
        "sorted_gs_accuracies = [v['accuracy'] for k, v in sorted_grid_search_by_loss]\n",
        "\n",
        "sorted_rs_losses = [v['loss'] for k, v in sorted_random_search_by_loss]\n",
        "sorted_rs_accuracies = [v['accuracy'] for k, v in sorted_random_search_by_loss]"
      ],
      "metadata": {
        "id": "qTFmXgICZGYG"
      },
      "execution_count": null,
      "outputs": []
    },
    {
      "cell_type": "code",
      "source": [
        "sorted_grid_search_by_loss[0][1]"
      ],
      "metadata": {
        "colab": {
          "base_uri": "https://localhost:8080/"
        },
        "id": "0_duvDCCaUhj",
        "outputId": "9015dcda-2484-4105-8393-77b4aef07000"
      },
      "execution_count": null,
      "outputs": [
        {
          "output_type": "execute_result",
          "data": {
            "text/plain": [
              "{'loss': 0.04695797339081764, 'accuracy': 0.9851999878883362}"
            ]
          },
          "metadata": {},
          "execution_count": 63
        }
      ]
    },
    {
      "cell_type": "code",
      "source": [
        "sorted_random_search_by_loss[0][1]"
      ],
      "metadata": {
        "colab": {
          "base_uri": "https://localhost:8080/"
        },
        "id": "NsgDKAdRabmJ",
        "outputId": "12ef7a0f-7dff-4a0d-d9fe-851434ca5931"
      },
      "execution_count": null,
      "outputs": [
        {
          "output_type": "execute_result",
          "data": {
            "text/plain": [
              "{'loss': 0.05719023942947388, 'accuracy': 0.9811999797821045}"
            ]
          },
          "metadata": {},
          "execution_count": 64
        }
      ]
    }
  ]
}