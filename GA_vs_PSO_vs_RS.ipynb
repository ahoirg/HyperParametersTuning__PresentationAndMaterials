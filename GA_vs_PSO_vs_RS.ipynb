{
  "cells": [
    {
      "cell_type": "markdown",
      "source": [
        "# GA vs PSO vs RS"
      ],
      "metadata": {
        "id": "kqFLQyENRQ_n"
      }
    },
    {
      "cell_type": "code",
      "source": [
        "!pip install numpy scikit-learn"
      ],
      "metadata": {
        "id": "hJEMUtJuBa5Z",
        "outputId": "6d641569-6d52-494f-a60f-d91dceffb330",
        "colab": {
          "base_uri": "https://localhost:8080/"
        }
      },
      "execution_count": null,
      "outputs": [
        {
          "output_type": "stream",
          "name": "stdout",
          "text": [
            "Requirement already satisfied: numpy in /usr/local/lib/python3.10/dist-packages (1.23.5)\n",
            "Requirement already satisfied: scikit-learn in /usr/local/lib/python3.10/dist-packages (1.2.2)\n",
            "Requirement already satisfied: scipy>=1.3.2 in /usr/local/lib/python3.10/dist-packages (from scikit-learn) (1.11.4)\n",
            "Requirement already satisfied: joblib>=1.1.1 in /usr/local/lib/python3.10/dist-packages (from scikit-learn) (1.3.2)\n",
            "Requirement already satisfied: threadpoolctl>=2.0.0 in /usr/local/lib/python3.10/dist-packages (from scikit-learn) (3.2.0)\n"
          ]
        }
      ]
    },
    {
      "cell_type": "code",
      "source": [
        "!pip install numpy scikit-learn matplotlib"
      ],
      "metadata": {
        "id": "tWa4DfwsCfRu",
        "outputId": "eccae774-f1ac-487a-aa8a-7ec99896f319",
        "colab": {
          "base_uri": "https://localhost:8080/"
        }
      },
      "execution_count": null,
      "outputs": [
        {
          "output_type": "stream",
          "name": "stdout",
          "text": [
            "Requirement already satisfied: numpy in /usr/local/lib/python3.10/dist-packages (1.23.5)\n",
            "Requirement already satisfied: scikit-learn in /usr/local/lib/python3.10/dist-packages (1.2.2)\n",
            "Requirement already satisfied: matplotlib in /usr/local/lib/python3.10/dist-packages (3.7.1)\n",
            "Requirement already satisfied: scipy>=1.3.2 in /usr/local/lib/python3.10/dist-packages (from scikit-learn) (1.11.4)\n",
            "Requirement already satisfied: joblib>=1.1.1 in /usr/local/lib/python3.10/dist-packages (from scikit-learn) (1.3.2)\n",
            "Requirement already satisfied: threadpoolctl>=2.0.0 in /usr/local/lib/python3.10/dist-packages (from scikit-learn) (3.2.0)\n",
            "Requirement already satisfied: contourpy>=1.0.1 in /usr/local/lib/python3.10/dist-packages (from matplotlib) (1.2.0)\n",
            "Requirement already satisfied: cycler>=0.10 in /usr/local/lib/python3.10/dist-packages (from matplotlib) (0.12.1)\n",
            "Requirement already satisfied: fonttools>=4.22.0 in /usr/local/lib/python3.10/dist-packages (from matplotlib) (4.46.0)\n",
            "Requirement already satisfied: kiwisolver>=1.0.1 in /usr/local/lib/python3.10/dist-packages (from matplotlib) (1.4.5)\n",
            "Requirement already satisfied: packaging>=20.0 in /usr/local/lib/python3.10/dist-packages (from matplotlib) (23.2)\n",
            "Requirement already satisfied: pillow>=6.2.0 in /usr/local/lib/python3.10/dist-packages (from matplotlib) (9.4.0)\n",
            "Requirement already satisfied: pyparsing>=2.3.1 in /usr/local/lib/python3.10/dist-packages (from matplotlib) (3.1.1)\n",
            "Requirement already satisfied: python-dateutil>=2.7 in /usr/local/lib/python3.10/dist-packages (from matplotlib) (2.8.2)\n",
            "Requirement already satisfied: six>=1.5 in /usr/local/lib/python3.10/dist-packages (from python-dateutil>=2.7->matplotlib) (1.16.0)\n"
          ]
        }
      ]
    },
    {
      "cell_type": "markdown",
      "source": [
        "## Codes"
      ],
      "metadata": {
        "id": "WfMu1_s1Di8L"
      }
    },
    {
      "cell_type": "code",
      "source": [
        "import numpy as np\n",
        "import time\n",
        "import matplotlib.pyplot as plt\n",
        "from sklearn import datasets\n",
        "from sklearn.svm import SVC\n",
        "from sklearn.model_selection import cross_val_score\n",
        "\n",
        "# PSO sınıfı\n",
        "class Particle:\n",
        "    def __init__(self, bounds):\n",
        "        self.position = np.random.uniform(low=bounds[0], high=bounds[1], size=len(bounds[0]))\n",
        "        self.velocity = np.random.uniform(low=-1, high=1, size=len(bounds[0]))\n",
        "        self.best_position = self.position.copy()\n",
        "        self.best_score = -np.inf\n",
        "\n",
        "class ParticleSwarmOptimizer:\n",
        "    def __init__(self, num_particles, bounds, num_iterations):\n",
        "        self.particles = [Particle(bounds) for _ in range(num_particles)]\n",
        "        self.global_best_position = None\n",
        "        self.global_best_score = -np.inf\n",
        "        self.bounds = bounds\n",
        "        self.num_iterations = num_iterations\n",
        "\n",
        "    def optimize(self, objective_function):\n",
        "        for _ in range(self.num_iterations):\n",
        "            for particle in self.particles:\n",
        "                score = objective_function(particle.position)\n",
        "                if score > particle.best_score:\n",
        "                    particle.best_score = score\n",
        "                    particle.best_position = particle.position.copy()\n",
        "\n",
        "                if score > self.global_best_score:\n",
        "                    self.global_best_score = score\n",
        "                    self.global_best_position = particle.position.copy()\n",
        "\n",
        "            for particle in self.particles:\n",
        "                r1, r2 = np.random.rand(), np.random.rand()\n",
        "                velocity_update = (0.5 * particle.velocity\n",
        "                                   + r1 * (particle.best_position - particle.position)\n",
        "                                   + r2 * (self.global_best_position - particle.position))\n",
        "                particle.velocity = velocity_update\n",
        "                particle.position += particle.velocity\n",
        "                particle.position = np.clip(particle.position, self.bounds[0], self.bounds[1])\n",
        "\n",
        "        return self.global_best_position, self.global_best_score\n",
        "\n",
        "# Genetik Algoritma sınıfı\n",
        "class GeneticAlgorithm:\n",
        "    def __init__(self, population_size, bounds, num_iterations, crossover_prob, mutation_prob):\n",
        "        self.population_size = population_size\n",
        "        self.bounds = bounds\n",
        "        self.num_iterations = num_iterations\n",
        "        self.crossover_prob = crossover_prob\n",
        "        self.mutation_prob = mutation_prob\n",
        "        self.population = np.random.uniform(low=bounds[0], high=bounds[1], size=(population_size, len(bounds[0])))\n",
        "\n",
        "    def crossover(self, parent1, parent2):\n",
        "        if np.random.rand() < self.crossover_prob:\n",
        "            crossover_point = np.random.randint(1, len(parent1))\n",
        "            child1 = np.concatenate((parent1[:crossover_point], parent2[crossover_point:]))\n",
        "            child2 = np.concatenate((parent2[:crossover_point], parent1[crossover_point:]))\n",
        "            return child1, child2\n",
        "        else:\n",
        "            return parent1, parent2\n",
        "\n",
        "    def mutate(self, individual):\n",
        "        for i in range(len(individual)):\n",
        "            if np.random.rand() < self.mutation_prob:\n",
        "                individual[i] = np.random.uniform(self.bounds[i][0], self.bounds[i][1])\n",
        "        return individual\n",
        "\n",
        "    def select_parents(self, fitness_scores):\n",
        "        probs = fitness_scores / fitness_scores.sum()\n",
        "        parents_indices = np.random.choice(range(self.population_size), size=2, p=probs, replace=False)\n",
        "        return self.population[parents_indices[0]], self.population[parents_indices[1]]\n",
        "\n",
        "    def optimize(self, objective_function):\n",
        "        best_score = -np.inf\n",
        "        best_individual = None\n",
        "\n",
        "        for _ in range(self.num_iterations):\n",
        "            fitness_scores = np.array([objective_function(individual) for individual in self.population])\n",
        "            new_population = []\n",
        "\n",
        "            for __ in range(self.population_size // 2):\n",
        "                parent1, parent2 = self.select_parents(fitness_scores)\n",
        "                child1, child2 = self.crossover(parent1, parent2)\n",
        "                child1 = self.mutate(child1)\n",
        "                child2 = self.mutate(child2)\n",
        "                new_population.extend([child1, child2])\n",
        "\n",
        "            self.population = np.array(new_population)\n",
        "            current_best_score = fitness_scores.max()\n",
        "            if current_best_score > best_score:\n",
        "                best_score = current_best_score\n",
        "                best_individual = self.population[fitness_scores.argmax()]\n",
        "\n",
        "        return best_individual, best_score\n",
        "\n",
        "# Hedef fonksiyon: SVM modeli için cross-validation skoru\n",
        "def objective_function(x):\n",
        "    C, gamma = x\n",
        "    model = SVC(C=C, gamma=gamma)\n",
        "    scores = cross_val_score(model, X, y, cv=5)\n",
        "    return np.mean(scores)\n",
        "\n",
        "# Algoritmaları karşılaştıran fonksiyon\n",
        "def compare_algorithms():\n",
        "    # Iris veri setini yükleme\n",
        "    iris = datasets.load_iris()\n",
        "    global X, y\n",
        "    X = iris.data\n",
        "    y = iris.target\n",
        "\n",
        "    # PSO parametreleri\n",
        "    num_particles = 30\n",
        "    bounds = [(0.1, 100), (0.0001, 1)]\n",
        "    num_iterations = 50\n",
        "\n",
        "    # PSO çalıştırma\n",
        "    start_time = time.time()\n",
        "    pso = ParticleSwarmOptimizer(num_particles, bounds, num_iterations)\n",
        "    best_params_pso, best_score_pso = pso.optimize(objective_function)\n",
        "    time_pso = time.time() - start_time\n",
        "\n",
        "    # GA parametreleri ve çalıştırma\n",
        "    ga = GeneticAlgorithm(population_size=30, bounds=bounds, num_iterations=50, crossover_prob=0.8, mutation_prob=0.01)\n",
        "    start_time = time.time()\n",
        "    best_params_ga, best_score_ga = ga.optimize(objective_function)\n",
        "    time_ga = time.time() - start_time\n",
        "\n",
        "    print(\"best_score_ga\"+str(best_score_ga))\n",
        "    print(\"time_ga\"+str(time_ga))\n",
        "    print(\"best_score_pso\"+str(best_score_pso))\n",
        "    print(\"time_pso\"+str(time_pso))\n",
        "\n",
        "    # Sonuçların grafik üzerinde karşılaştırılması\n",
        "    algorithms = ['PSO', 'GA']\n",
        "    scores = [best_score_pso, best_score_ga]\n",
        "    times = [time_pso, time_ga]\n",
        "\n",
        "    plt.figure(figsize=(12, 5))\n",
        "\n",
        "    plt.subplot(1, 2, 1)\n",
        "    plt.bar(algorithms, scores, color=['blue', 'green'])\n",
        "    plt.ylabel('Accuracy')\n",
        "    plt.title('Algorithm Comparison - Accuracy')\n",
        "\n",
        "    plt.subplot(1, 2, 2)\n",
        "    plt.bar(algorithms, times, color=['red', 'purple'])\n",
        "    plt.ylabel('Time (seconds)')\n",
        "    plt.title('Algorithm Comparison - Execution Time')\n",
        "\n",
        "    plt.show()\n",
        "\n",
        "compare_algorithms()\n"
      ],
      "metadata": {
        "id": "M4wrgcQ1C8OP",
        "outputId": "ee94e2c0-36ff-4e7a-d8c0-cf15c1a976ca",
        "colab": {
          "base_uri": "https://localhost:8080/",
          "height": 525
        }
      },
      "execution_count": null,
      "outputs": [
        {
          "output_type": "stream",
          "name": "stdout",
          "text": [
            "best_score_ga0.9800000000000001\n",
            "time_ga23.014392375946045\n",
            "best_score_pso0.96\n",
            "time_pso28.199132680892944\n"
          ]
        },
        {
          "output_type": "display_data",
          "data": {
            "text/plain": [
              "<Figure size 1200x500 with 2 Axes>"
            ],
            "image/png": "[encoded data removed]"
          },
          "metadata": {}
        }
      ]
    },
    {
      "cell_type": "code",
      "source": [
        "import numpy as np\n",
        "from sklearn.model_selection import RandomizedSearchCV\n",
        "from sklearn.svm import SVC\n",
        "from sklearn import datasets\n",
        "\n",
        "# Iris veri setini yükleme\n",
        "iris = datasets.load_iris()\n",
        "X = iris.data\n",
        "y = iris.target\n",
        "\n",
        "# SVM sınıflandırıcısının parametre dağılımlarını tanımlama\n",
        "param_distributions = {\n",
        "    'C': np.logspace(-1, 2, 100),    # C için 0.1 ile 100 arasında logaritmik ölçekte değerler\n",
        "    'gamma': np.logspace(-4, 0, 100) # gamma için 0.0001 ile 1 arasında logaritmik ölçekte değerler\n",
        "}\n",
        "\n",
        "# RandomizedSearchCV sınıfını kullanarak rastgele arama\n",
        "svm = SVC()\n",
        "random_search = RandomizedSearchCV(svm, param_distributions, n_iter=100, cv=5, random_state=42, n_jobs=-1)\n",
        "\n",
        "start_time = time.time() # Zaman ölçümünü başlat\n",
        "random_search.fit(X, y)\n",
        "end_time = time.time() # Zaman ölçümünü bitir\n",
        "\n",
        "# En iyi parametreleri ve skoru göster\n",
        "print(\"En iyi parametreler:\", random_search.best_params_)\n",
        "print(\"En iyi skor:\", random_search.best_score_)\n",
        "\n",
        "print(\"Toplam çalışma süresi: {:.2f} saniye\".format(end_time - start_time))"
      ],
      "metadata": {
        "id": "FYF-7w3pG9h7",
        "outputId": "eef1f66e-f3a1-422d-f62c-a21d8a580283",
        "colab": {
          "base_uri": "https://localhost:8080/"
        }
      },
      "execution_count": null,
      "outputs": [
        {
          "output_type": "stream",
          "name": "stdout",
          "text": [
            "En iyi parametreler: {'gamma': 0.04229242874389499, 'C': 7.56463327554629}\n",
            "En iyi skor: 0.9866666666666667\n",
            "Toplam çalışma süresi: 3.67 saniye\n"
          ]
        }
      ]
    }
  ],
  "metadata": {
    "colab": {
      "toc_visible": true,
      "provenance": []
    },
    "kernelspec": {
      "display_name": "Python 3",
      "name": "python3"
    }
  },
  "nbformat": 4,
  "nbformat_minor": 0
}